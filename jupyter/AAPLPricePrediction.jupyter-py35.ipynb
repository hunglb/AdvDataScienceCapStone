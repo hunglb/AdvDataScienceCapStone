{
 "cells": [
  {
   "cell_type": "code",
   "execution_count": 1,
   "metadata": {
    "collapsed": false,
    "deletable": true,
    "editable": true
   },
   "outputs": [],
   "source": [
    "# importing libraries\n",
    "import numpy as np\n",
    "import pandas as pd\n",
    "import matplotlib.pyplot as plt"
   ]
  },
  {
   "cell_type": "code",
   "execution_count": 17,
   "metadata": {
    "collapsed": false
   },
   "outputs": [
    {
     "data": {
      "text/html": [
       "<div>\n",
       "<style>\n",
       "    .dataframe thead tr:only-child th {\n",
       "        text-align: right;\n",
       "    }\n",
       "\n",
       "    .dataframe thead th {\n",
       "        text-align: left;\n",
       "    }\n",
       "\n",
       "    .dataframe tbody tr th {\n",
       "        vertical-align: top;\n",
       "    }\n",
       "</style>\n",
       "<table border=\"1\" class=\"dataframe\">\n",
       "  <thead>\n",
       "    <tr style=\"text-align: right;\">\n",
       "      <th></th>\n",
       "      <th>Date</th>\n",
       "      <th>Open</th>\n",
       "      <th>High</th>\n",
       "      <th>Low</th>\n",
       "      <th>Close</th>\n",
       "      <th>Adj Close</th>\n",
       "      <th>Volume</th>\n",
       "    </tr>\n",
       "  </thead>\n",
       "  <tbody>\n",
       "    <tr>\n",
       "      <th>0</th>\n",
       "      <td>2000-05-26</td>\n",
       "      <td>45.531250</td>\n",
       "      <td>45.71875</td>\n",
       "      <td>45.312500</td>\n",
       "      <td>45.718750</td>\n",
       "      <td>35.550995</td>\n",
       "      <td>74800</td>\n",
       "    </tr>\n",
       "    <tr>\n",
       "      <th>1</th>\n",
       "      <td>2000-05-30</td>\n",
       "      <td>46.375000</td>\n",
       "      <td>47.40625</td>\n",
       "      <td>46.375000</td>\n",
       "      <td>47.406250</td>\n",
       "      <td>36.863197</td>\n",
       "      <td>57600</td>\n",
       "    </tr>\n",
       "    <tr>\n",
       "      <th>2</th>\n",
       "      <td>2000-05-31</td>\n",
       "      <td>47.562500</td>\n",
       "      <td>48.18750</td>\n",
       "      <td>47.562500</td>\n",
       "      <td>47.578125</td>\n",
       "      <td>36.996853</td>\n",
       "      <td>36000</td>\n",
       "    </tr>\n",
       "    <tr>\n",
       "      <th>3</th>\n",
       "      <td>2000-06-01</td>\n",
       "      <td>48.554688</td>\n",
       "      <td>48.65625</td>\n",
       "      <td>48.554688</td>\n",
       "      <td>48.656250</td>\n",
       "      <td>37.835213</td>\n",
       "      <td>7000</td>\n",
       "    </tr>\n",
       "    <tr>\n",
       "      <th>4</th>\n",
       "      <td>2000-06-02</td>\n",
       "      <td>50.859375</td>\n",
       "      <td>51.18750</td>\n",
       "      <td>50.859375</td>\n",
       "      <td>51.187500</td>\n",
       "      <td>39.803505</td>\n",
       "      <td>29400</td>\n",
       "    </tr>\n",
       "  </tbody>\n",
       "</table>\n",
       "</div>"
      ],
      "text/plain": [
       "         Date       Open      High        Low      Close  Adj Close  Volume\n",
       "0  2000-05-26  45.531250  45.71875  45.312500  45.718750  35.550995   74800\n",
       "1  2000-05-30  46.375000  47.40625  46.375000  47.406250  36.863197   57600\n",
       "2  2000-05-31  47.562500  48.18750  47.562500  47.578125  36.996853   36000\n",
       "3  2000-06-01  48.554688  48.65625  48.554688  48.656250  37.835213    7000\n",
       "4  2000-06-02  50.859375  51.18750  50.859375  51.187500  39.803505   29400"
      ]
     },
     "execution_count": 17,
     "metadata": {},
     "output_type": "execute_result"
    }
   ],
   "source": [
    "import os, pandas as pd\n",
    "# Add asset from file system\n",
    "dataset = pd.read_csv(os.environ['DSX_PROJECT_DIR']+'/datasets/appl.csv')\n",
    "dataset.head()\n",
    "\n",
    "\n"
   ]
  },
  {
   "cell_type": "code",
   "execution_count": 32,
   "metadata": {
    "collapsed": false
   },
   "outputs": [],
   "source": [
    "stocks = dataset.loc[(dataset['date']>='2017-01-01') & (dataset['date']<='2017-12-31')]\n",
    "#stocks=dataset"
   ]
  },
  {
   "cell_type": "code",
   "execution_count": 33,
   "metadata": {
    "collapsed": true
   },
   "outputs": [],
   "source": [
    "# getting the list of all companies \n",
    "companies = stocks.ticker.unique()\n",
    "companies.sort()"
   ]
  },
  {
   "cell_type": "code",
   "execution_count": 100,
   "metadata": {
    "collapsed": false
   },
   "outputs": [
    {
     "data": {
      "text/plain": [
       "(236, 15)"
      ]
     },
     "execution_count": 100,
     "metadata": {},
     "output_type": "execute_result"
    }
   ],
   "source": [
    "from sklearn.preprocessing import MinMaxScaler\n",
    "\n",
    "# we are creating 2 arrays, x_train and y_train.¶\n",
    "# x_train stores the values of adjusted closing prices of past 60 days\n",
    "# y_train stores the values of adjusted closing prices of the present day\n",
    "\n",
    "period = 15\n",
    "x_train = []\n",
    "y_train = []\n",
    "companies_sc = []\n",
    "\n",
    "for company in companies:\n",
    "    \n",
    "    sc = MinMaxScaler()\n",
    "    stock = stocks.loc[stocks['ticker'] == company]\n",
    "    \n",
    "    # creating an array with adjusted closing prices\n",
    "    training_set = stock[['adj_close']].values\n",
    "    \n",
    "    # normalizing the values\n",
    "    training_set_scaled = sc.fit_transform(training_set)\n",
    "    training_set_scaled.shape\n",
    "    \n",
    "    # In the below cell, we are appendding data to x_train and y_train.¶\n",
    "    \n",
    "    length = len(training_set)\n",
    "    for i in range(period, length):\n",
    "        x_train.append(training_set_scaled[i-period:i, 0])\n",
    "        y_train.append(training_set_scaled[i, 0])\n",
    "        \n",
    "    companies_sc.append(sc)\n",
    "        \n",
    "x_train = np.array(x_train)\n",
    "y_train = np.array(y_train)\n",
    "x_train.shape"
   ]
  },
  {
   "cell_type": "code",
   "execution_count": 101,
   "metadata": {
    "collapsed": false
   },
   "outputs": [
    {
     "data": {
      "text/plain": [
       "(236, 15, 1)"
      ]
     },
     "execution_count": 101,
     "metadata": {},
     "output_type": "execute_result"
    }
   ],
   "source": [
    "x_train = np.reshape(x_train, (x_train.shape[0], x_train.shape[1], 1))\n",
    "x_train.shape"
   ]
  },
  {
   "cell_type": "code",
   "execution_count": 102,
   "metadata": {
    "collapsed": false
   },
   "outputs": [],
   "source": [
    "from keras.models import Sequential\n",
    "from keras.layers import LSTM, Dense, Dropout\n",
    "\n",
    "model = Sequential()\n",
    "\n",
    "model.add(LSTM(units = 92, return_sequences = True, input_shape = (x_train.shape[1], 1)))\n",
    "model.add(Dropout(0.2))\n",
    "\n",
    "# model.add(LSTM(units = 92, return_sequences = True))\n",
    "# model.add(Dropout(0.2))\n",
    "\n",
    "# model.add(LSTM(units = 92, return_sequences = True))\n",
    "# model.add(Dropout(0.2))\n",
    "\n",
    "model.add(LSTM(units = 92, return_sequences = False))\n",
    "model.add(Dropout(0.2))\n",
    "\n",
    "model.add(Dense(units = 1))\n",
    "model.compile(optimizer = 'adam', loss = 'mean_squared_error')"
   ]
  },
  {
   "cell_type": "code",
   "execution_count": 103,
   "metadata": {
    "collapsed": false
   },
   "outputs": [
    {
     "name": "stdout",
     "output_type": "stream",
     "text": [
      "Train on 158 samples, validate on 78 samples\n",
      "Epoch 1/100\n",
      " - 2s - loss: 0.2374 - val_loss: 0.4422\n",
      "Epoch 2/100\n",
      " - 0s - loss: 0.1738 - val_loss: 0.3074\n",
      "Epoch 3/100\n",
      " - 0s - loss: 0.1191 - val_loss: 0.1839\n",
      "Epoch 4/100\n",
      " - 0s - loss: 0.0692 - val_loss: 0.0790\n",
      "Epoch 5/100\n",
      " - 0s - loss: 0.0287 - val_loss: 0.0131\n",
      "Epoch 6/100\n",
      " - 0s - loss: 0.0056 - val_loss: 0.0197\n",
      "Epoch 7/100\n",
      " - 0s - loss: 0.0157 - val_loss: 0.0638\n",
      "Epoch 8/100\n",
      " - 0s - loss: 0.0400 - val_loss: 0.0605\n",
      "Epoch 9/100\n",
      " - 0s - loss: 0.0385 - val_loss: 0.0312\n",
      "Epoch 10/100\n",
      " - 0s - loss: 0.0246 - val_loss: 0.0094\n",
      "Epoch 11/100\n",
      " - 0s - loss: 0.0094 - val_loss: 0.0058\n",
      "Epoch 12/100\n",
      " - 0s - loss: 0.0050 - val_loss: 0.0152\n",
      "Epoch 13/100\n",
      " - 0s - loss: 0.0055 - val_loss: 0.0294\n",
      "Epoch 14/100\n",
      " - 0s - loss: 0.0092 - val_loss: 0.0422\n",
      "Epoch 15/100\n",
      " - 0s - loss: 0.0131 - val_loss: 0.0505\n",
      "Epoch 16/100\n",
      " - 0s - loss: 0.0156 - val_loss: 0.0533\n",
      "Epoch 17/100\n",
      " - 0s - loss: 0.0172 - val_loss: 0.0508\n",
      "Epoch 18/100\n",
      " - 0s - loss: 0.0159 - val_loss: 0.0443\n",
      "Epoch 19/100\n",
      " - 0s - loss: 0.0137 - val_loss: 0.0353\n",
      "Epoch 20/100\n",
      " - 0s - loss: 0.0102 - val_loss: 0.0255\n",
      "Epoch 21/100\n",
      " - 0s - loss: 0.0081 - val_loss: 0.0166\n",
      "Epoch 22/100\n",
      " - 0s - loss: 0.0051 - val_loss: 0.0100\n",
      "Epoch 23/100\n",
      " - 0s - loss: 0.0043 - val_loss: 0.0062\n",
      "Epoch 24/100\n",
      " - 0s - loss: 0.0041 - val_loss: 0.0050\n",
      "Epoch 25/100\n",
      " - 0s - loss: 0.0070 - val_loss: 0.0054\n",
      "Epoch 26/100\n",
      " - 0s - loss: 0.0074 - val_loss: 0.0059\n",
      "Epoch 27/100\n",
      " - 0s - loss: 0.0089 - val_loss: 0.0057\n",
      "Epoch 28/100\n",
      " - 0s - loss: 0.0091 - val_loss: 0.0052\n",
      "Epoch 29/100\n",
      " - 0s - loss: 0.0067 - val_loss: 0.0050\n",
      "Epoch 30/100\n",
      " - 0s - loss: 0.0059 - val_loss: 0.0058\n",
      "Epoch 31/100\n",
      " - 0s - loss: 0.0047 - val_loss: 0.0078\n",
      "Epoch 32/100\n",
      " - 0s - loss: 0.0048 - val_loss: 0.0106\n",
      "Epoch 33/100\n",
      " - 0s - loss: 0.0040 - val_loss: 0.0136\n",
      "Epoch 34/100\n",
      " - 0s - loss: 0.0048 - val_loss: 0.0162\n",
      "Epoch 35/100\n",
      " - 0s - loss: 0.0044 - val_loss: 0.0181\n",
      "Epoch 36/100\n",
      " - 0s - loss: 0.0059 - val_loss: 0.0187\n",
      "Epoch 37/100\n",
      " - 0s - loss: 0.0055 - val_loss: 0.0182\n",
      "Epoch 38/100\n",
      " - 0s - loss: 0.0051 - val_loss: 0.0168\n",
      "Epoch 39/100\n",
      " - 0s - loss: 0.0054 - val_loss: 0.0147\n",
      "Epoch 40/100\n",
      " - 0s - loss: 0.0049 - val_loss: 0.0123\n",
      "Epoch 41/100\n",
      " - 0s - loss: 0.0043 - val_loss: 0.0101\n",
      "Epoch 42/100\n",
      " - 0s - loss: 0.0042 - val_loss: 0.0083\n",
      "Epoch 43/100\n",
      " - 0s - loss: 0.0048 - val_loss: 0.0070\n",
      "Epoch 44/100\n",
      " - 0s - loss: 0.0045 - val_loss: 0.0062\n",
      "Epoch 45/100\n",
      " - 0s - loss: 0.0055 - val_loss: 0.0058\n",
      "Epoch 46/100\n",
      " - 0s - loss: 0.0044 - val_loss: 0.0057\n",
      "Epoch 47/100\n",
      " - 0s - loss: 0.0050 - val_loss: 0.0058\n",
      "Epoch 48/100\n",
      " - 0s - loss: 0.0050 - val_loss: 0.0061\n",
      "Epoch 49/100\n",
      " - 0s - loss: 0.0046 - val_loss: 0.0067\n",
      "Epoch 50/100\n",
      " - 0s - loss: 0.0040 - val_loss: 0.0076\n",
      "Epoch 51/100\n",
      " - 0s - loss: 0.0040 - val_loss: 0.0086\n",
      "Epoch 52/100\n",
      " - 0s - loss: 0.0042 - val_loss: 0.0094\n",
      "Epoch 53/100\n",
      " - 0s - loss: 0.0039 - val_loss: 0.0100\n",
      "Epoch 54/100\n",
      " - 0s - loss: 0.0037 - val_loss: 0.0102\n",
      "Epoch 55/100\n",
      " - 0s - loss: 0.0043 - val_loss: 0.0103\n",
      "Epoch 56/100\n",
      " - 0s - loss: 0.0040 - val_loss: 0.0099\n",
      "Epoch 57/100\n",
      " - 0s - loss: 0.0035 - val_loss: 0.0092\n",
      "Epoch 58/100\n",
      " - 0s - loss: 0.0037 - val_loss: 0.0083\n",
      "Epoch 59/100\n",
      " - 0s - loss: 0.0044 - val_loss: 0.0074\n",
      "Epoch 60/100\n",
      " - 0s - loss: 0.0037 - val_loss: 0.0067\n",
      "Epoch 61/100\n",
      " - 0s - loss: 0.0042 - val_loss: 0.0063\n",
      "Epoch 62/100\n",
      " - 0s - loss: 0.0038 - val_loss: 0.0060\n",
      "Epoch 63/100\n",
      " - 0s - loss: 0.0034 - val_loss: 0.0059\n",
      "Epoch 64/100\n",
      " - 0s - loss: 0.0033 - val_loss: 0.0060\n",
      "Epoch 65/100\n",
      " - 0s - loss: 0.0040 - val_loss: 0.0063\n",
      "Epoch 66/100\n",
      " - 0s - loss: 0.0038 - val_loss: 0.0066\n",
      "Epoch 67/100\n",
      " - 0s - loss: 0.0038 - val_loss: 0.0069\n",
      "Epoch 68/100\n",
      " - 0s - loss: 0.0036 - val_loss: 0.0072\n",
      "Epoch 69/100\n",
      " - 0s - loss: 0.0036 - val_loss: 0.0074\n",
      "Epoch 70/100\n",
      " - 0s - loss: 0.0040 - val_loss: 0.0075\n",
      "Epoch 71/100\n",
      " - 0s - loss: 0.0047 - val_loss: 0.0073\n",
      "Epoch 72/100\n",
      " - 0s - loss: 0.0036 - val_loss: 0.0072\n",
      "Epoch 73/100\n",
      " - 0s - loss: 0.0038 - val_loss: 0.0070\n",
      "Epoch 74/100\n",
      " - 0s - loss: 0.0040 - val_loss: 0.0067\n",
      "Epoch 75/100\n",
      " - 0s - loss: 0.0033 - val_loss: 0.0065\n",
      "Epoch 76/100\n",
      " - 0s - loss: 0.0032 - val_loss: 0.0063\n",
      "Epoch 77/100\n",
      " - 0s - loss: 0.0037 - val_loss: 0.0062\n",
      "Epoch 78/100\n",
      " - 0s - loss: 0.0042 - val_loss: 0.0061\n",
      "Epoch 79/100\n",
      " - 0s - loss: 0.0037 - val_loss: 0.0060\n",
      "Epoch 80/100\n",
      " - 0s - loss: 0.0033 - val_loss: 0.0059\n",
      "Epoch 81/100\n",
      " - 0s - loss: 0.0035 - val_loss: 0.0058\n",
      "Epoch 82/100\n",
      " - 0s - loss: 0.0035 - val_loss: 0.0058\n",
      "Epoch 83/100\n",
      " - 0s - loss: 0.0035 - val_loss: 0.0057\n",
      "Epoch 84/100\n",
      " - 0s - loss: 0.0033 - val_loss: 0.0057\n",
      "Epoch 85/100\n",
      " - 0s - loss: 0.0036 - val_loss: 0.0058\n",
      "Epoch 86/100\n",
      " - 0s - loss: 0.0036 - val_loss: 0.0059\n",
      "Epoch 87/100\n",
      " - 0s - loss: 0.0038 - val_loss: 0.0060\n",
      "Epoch 88/100\n",
      " - 0s - loss: 0.0033 - val_loss: 0.0062\n",
      "Epoch 89/100\n",
      " - 0s - loss: 0.0032 - val_loss: 0.0063\n",
      "Epoch 90/100\n",
      " - 0s - loss: 0.0031 - val_loss: 0.0063\n",
      "Epoch 91/100\n",
      " - 0s - loss: 0.0031 - val_loss: 0.0062\n",
      "Epoch 92/100\n",
      " - 0s - loss: 0.0042 - val_loss: 0.0061\n",
      "Epoch 93/100\n",
      " - 0s - loss: 0.0034 - val_loss: 0.0060\n",
      "Epoch 94/100\n",
      " - 0s - loss: 0.0040 - val_loss: 0.0058\n",
      "Epoch 95/100\n",
      " - 0s - loss: 0.0040 - val_loss: 0.0057\n",
      "Epoch 96/100\n",
      " - 0s - loss: 0.0040 - val_loss: 0.0055\n",
      "Epoch 97/100\n",
      " - 0s - loss: 0.0041 - val_loss: 0.0055\n",
      "Epoch 98/100\n",
      " - 0s - loss: 0.0035 - val_loss: 0.0054\n",
      "Epoch 99/100\n",
      " - 0s - loss: 0.0031 - val_loss: 0.0054\n",
      "Epoch 100/100\n",
      " - 0s - loss: 0.0030 - val_loss: 0.0053\n"
     ]
    }
   ],
   "source": [
    "train = model.fit(x_train, y_train, verbose=2, epochs = 100, batch_size = 3000, validation_split=0.33)"
   ]
  },
  {
   "cell_type": "code",
   "execution_count": 104,
   "metadata": {
    "collapsed": false
   },
   "outputs": [
    {
     "data": {
      "image/png": "[encoded data removed]",
      "text/plain": [
       "<Figure size 432x288 with 1 Axes>"
      ]
     },
     "metadata": {
      "needs_background": "light"
     },
     "output_type": "display_data"
    }
   ],
   "source": [
    "plt.plot(train.history['loss'])\n",
    "plt.plot(train.history['val_loss'])\n",
    "plt.title('model loss')\n",
    "plt.ylabel('loss')\n",
    "plt.xlabel('epoch')\n",
    "plt.legend(['train', 'test'], loc='upper right')\n",
    "plt.show()"
   ]
  },
  {
   "cell_type": "code",
   "execution_count": 105,
   "metadata": {
    "collapsed": true
   },
   "outputs": [],
   "source": [
    "test_set = dataset.loc[(dataset['ticker'] == 'AAPL') & (dataset['date']>='2018-01-01')]  \n",
    "test_set = test_set.loc[:, test_set.columns == 'adj_close']"
   ]
  },
  {
   "cell_type": "code",
   "execution_count": 106,
   "metadata": {
    "collapsed": true
   },
   "outputs": [],
   "source": [
    "y_test = test_set.iloc[period:, 0:].values"
   ]
  },
  {
   "cell_type": "code",
   "execution_count": 107,
   "metadata": {
    "collapsed": true
   },
   "outputs": [],
   "source": [
    "sc = companies_sc[np.where(companies==\"AAPL\")[0][0]]\n",
    "# storing all values in a variable for generating an input array for our model \n",
    "adj_closing_price = test_set.iloc[:, 0:].values\n",
    "adj_closing_price_scaled = sc.transform(adj_closing_price)"
   ]
  },
  {
   "cell_type": "code",
   "execution_count": 108,
   "metadata": {
    "collapsed": true
   },
   "outputs": [],
   "source": [
    "# the model will predict the values on x_test\n",
    "x_test = [] \n",
    "length = len(test_set)\n",
    "\n",
    "for i in range(period, length):\n",
    "    x_test.append(adj_closing_price_scaled[i-period:i, 0])\n",
    "    \n",
    "x_test = np.array(x_test)"
   ]
  },
  {
   "cell_type": "code",
   "execution_count": 109,
   "metadata": {
    "collapsed": false
   },
   "outputs": [
    {
     "data": {
      "text/plain": [
       "(149, 15, 1)"
      ]
     },
     "execution_count": 109,
     "metadata": {},
     "output_type": "execute_result"
    }
   ],
   "source": [
    "x_test = np.reshape(x_test, (x_test.shape[0], x_test.shape[1], 1))\n",
    "x_test.shape"
   ]
  },
  {
   "cell_type": "code",
   "execution_count": 110,
   "metadata": {
    "collapsed": true
   },
   "outputs": [],
   "source": [
    "# predicting the stock price values\n",
    "y_pred = model.predict(x_test)\n",
    "predicted_price = sc.inverse_transform(y_pred)"
   ]
  },
  {
   "cell_type": "code",
   "execution_count": 111,
   "metadata": {
    "collapsed": false
   },
   "outputs": [
    {
     "data": {
      "image/png": "[encoded data removed]",
      "text/plain": [
       "<Figure size 432x288 with 1 Axes>"
      ]
     },
     "metadata": {
      "needs_background": "light"
     },
     "output_type": "display_data"
    }
   ],
   "source": [
    "# plotting the results\n",
    "plt.plot(y_test, color = 'blue', label = 'Actual Stock Price')\n",
    "plt.plot(predicted_price, color = 'red', label = 'Predicted Stock Price')\n",
    "plt.title('Stock Price Prediction')\n",
    "plt.xlabel('Time')\n",
    "plt.ylabel('Stock Price')\n",
    "plt.legend()\n",
    "plt.show()"
   ]
  },
  {
   "cell_type": "code",
   "execution_count": null,
   "metadata": {
    "collapsed": true
   },
   "outputs": [],
   "source": []
  },
  {
   "cell_type": "code",
   "execution_count": null,
   "metadata": {
    "collapsed": true
   },
   "outputs": [],
   "source": []
  }
 ],
 "metadata": {
  "kernelspec": {
   "display_name": "Python3.5 with Watson Studio Spark 2.2.1",
   "language": "python",
   "name": "python3"
  },
  "language_info": {
   "codemirror_mode": {
    "name": "ipython",
    "version": 3
   },
   "file_extension": ".py",
   "mimetype": "text/x-python",
   "name": "python",
   "nbconvert_exporter": "python",
   "pygments_lexer": "ipython3",
   "version": "3.5.2"
  }
 },
 "nbformat": 4,
 "nbformat_minor": 2
}
